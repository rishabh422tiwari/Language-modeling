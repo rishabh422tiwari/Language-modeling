{
 "cells": [
  {
   "cell_type": "markdown",
   "id": "6668ee40",
   "metadata": {},
   "source": [
    "# NumPy Broadcasting"
   ]
  },
  {
   "cell_type": "markdown",
   "id": "3608c283",
   "metadata": {},
   "source": [
    "The term broadcasting refers to how numpy treats arrays with different Dimension during arithmetic operations which lead to certain constraints, the smaller array is broadcast across the larger array so that they have compatible shapes. "
   ]
  },
  {
   "cell_type": "code",
   "execution_count": 1,
   "id": "d0164dce",
   "metadata": {},
   "outputs": [],
   "source": [
    "import numpy as np"
   ]
  },
  {
   "cell_type": "code",
   "execution_count": 2,
   "id": "9f9f200b",
   "metadata": {},
   "outputs": [],
   "source": [
    "a = np.array([0,1,2,3])\n",
    "b = np.array([1,1,1,1])"
   ]
  },
  {
   "cell_type": "code",
   "execution_count": 7,
   "id": "5e285991",
   "metadata": {},
   "outputs": [
    {
     "data": {
      "text/plain": [
       "array([0, 1, 2, 3])"
      ]
     },
     "execution_count": 7,
     "metadata": {},
     "output_type": "execute_result"
    }
   ],
   "source": [
    "c = a * b\n",
    "c"
   ]
  },
  {
   "cell_type": "markdown",
   "id": "d5e200f6",
   "metadata": {},
   "source": [
    "## example 1 : Single Dimension array "
   ]
  },
  {
   "cell_type": "code",
   "execution_count": 21,
   "id": "6d7dccd9",
   "metadata": {},
   "outputs": [
    {
     "name": "stdout",
     "output_type": "stream",
     "text": [
      "[17 11 19]\n"
     ]
    }
   ],
   "source": [
    "import numpy as np\n",
    "a = np.array([17, 11, 19]) # 1x3 Dimension array\n",
    "print(a)"
   ]
  },
  {
   "cell_type": "code",
   "execution_count": 22,
   "id": "53b4bb66",
   "metadata": {},
   "outputs": [
    {
     "name": "stdout",
     "output_type": "stream",
     "text": [
      "3\n"
     ]
    }
   ],
   "source": [
    "b = 3 \n",
    "print(b)"
   ]
  },
  {
   "cell_type": "code",
   "execution_count": 23,
   "id": "9afe288a",
   "metadata": {},
   "outputs": [
    {
     "name": "stdout",
     "output_type": "stream",
     "text": [
      "[20 14 22]\n"
     ]
    }
   ],
   "source": [
    "# Broadcasting happened because of\n",
    "# miss match in array Dimension.\n",
    "c = a + b\n",
    "print(c)"
   ]
  },
  {
   "cell_type": "markdown",
   "id": "d7686251",
   "metadata": {},
   "source": [
    "## example 2 : Two Dimensional Array"
   ]
  },
  {
   "cell_type": "code",
   "execution_count": 24,
   "id": "3c1f1cdf",
   "metadata": {},
   "outputs": [],
   "source": [
    "A = np.array([[11, 22, 33], [10, 20, 30]])"
   ]
  },
  {
   "cell_type": "code",
   "execution_count": 25,
   "id": "120eab51",
   "metadata": {},
   "outputs": [
    {
     "data": {
      "text/plain": [
       "(2, 3)"
      ]
     },
     "execution_count": 25,
     "metadata": {},
     "output_type": "execute_result"
    }
   ],
   "source": [
    "A.shape"
   ]
  },
  {
   "cell_type": "code",
   "execution_count": 26,
   "id": "5b7e1bb8",
   "metadata": {},
   "outputs": [
    {
     "name": "stdout",
     "output_type": "stream",
     "text": [
      "[[11 22 33]\n",
      " [10 20 30]]\n"
     ]
    }
   ],
   "source": [
    "print(A)"
   ]
  },
  {
   "cell_type": "code",
   "execution_count": 28,
   "id": "af58bfcd",
   "metadata": {},
   "outputs": [
    {
     "name": "stdout",
     "output_type": "stream",
     "text": [
      "4\n"
     ]
    }
   ],
   "source": [
    "b = 4\n",
    "print(b)"
   ]
  },
  {
   "cell_type": "code",
   "execution_count": 29,
   "id": "28eae1b5",
   "metadata": {},
   "outputs": [
    {
     "name": "stdout",
     "output_type": "stream",
     "text": [
      "[[15 26 37]\n",
      " [14 24 34]]\n"
     ]
    }
   ],
   "source": [
    "C = A + b\n",
    "print(C)"
   ]
  },
  {
   "cell_type": "markdown",
   "id": "5928d932",
   "metadata": {},
   "source": [
    "## example 3"
   ]
  },
  {
   "cell_type": "code",
   "execution_count": 30,
   "id": "245d71a0",
   "metadata": {},
   "outputs": [],
   "source": [
    "v = np.array([12, 24, 36]) \n",
    "w = np.array([45, 55])   "
   ]
  },
  {
   "cell_type": "code",
   "execution_count": 31,
   "id": "bc762e13",
   "metadata": {},
   "outputs": [
    {
     "name": "stdout",
     "output_type": "stream",
     "text": [
      "(3,)\n",
      "(2,)\n"
     ]
    }
   ],
   "source": [
    "print(v.shape)\n",
    "print(w.shape)"
   ]
  },
  {
   "cell_type": "code",
   "execution_count": 33,
   "id": "8162fb79",
   "metadata": {},
   "outputs": [
    {
     "name": "stdout",
     "output_type": "stream",
     "text": [
      "[[12]\n",
      " [24]\n",
      " [36]]\n"
     ]
    }
   ],
   "source": [
    "# To compute an outer product we first\n",
    "# reshape v to a column vector of shape 3x1\n",
    "# then broadcast it against w to yield an output\n",
    "# of shape 3x2 which is the outer product of v and w\n",
    "print(np.reshape(v, (3, 1)))"
   ]
  },
  {
   "cell_type": "code",
   "execution_count": 32,
   "id": "23a12332",
   "metadata": {},
   "outputs": [
    {
     "name": "stdout",
     "output_type": "stream",
     "text": [
      "[[ 540  660]\n",
      " [1080 1320]\n",
      " [1620 1980]]\n"
     ]
    }
   ],
   "source": [
    "print(np.reshape(v, (3, 1)) * w)"
   ]
  },
  {
   "cell_type": "code",
   "execution_count": 37,
   "id": "7e7ec4cd",
   "metadata": {},
   "outputs": [
    {
     "name": "stdout",
     "output_type": "stream",
     "text": [
      "(2, 3)\n"
     ]
    }
   ],
   "source": [
    "x = np.array([[12, 22, 33], [45, 55, 66]])\n",
    "print(x.shape)"
   ]
  },
  {
   "cell_type": "code",
   "execution_count": 38,
   "id": "89d7abea",
   "metadata": {},
   "outputs": [
    {
     "data": {
      "text/plain": [
       "array([[12, 22, 33],\n",
       "       [45, 55, 66]])"
      ]
     },
     "execution_count": 38,
     "metadata": {},
     "output_type": "execute_result"
    }
   ],
   "source": [
    "x"
   ]
  },
  {
   "cell_type": "code",
   "execution_count": null,
   "id": "ee8cec0a",
   "metadata": {},
   "outputs": [],
   "source": [
    "# x has shape  2x3 and v has shape (3, )\n",
    "# so they broadcast to 2x3,"
   ]
  },
  {
   "cell_type": "code",
   "execution_count": 39,
   "id": "a4ac171c",
   "metadata": {},
   "outputs": [
    {
     "name": "stdout",
     "output_type": "stream",
     "text": [
      "[[ 24  46  69]\n",
      " [ 57  79 102]]\n"
     ]
    }
   ],
   "source": [
    "print(x + v)"
   ]
  },
  {
   "cell_type": "code",
   "execution_count": 40,
   "id": "208ca0da",
   "metadata": {},
   "outputs": [],
   "source": [
    "# Add a vector to each column of a matrix X has\n",
    "# shape 2x3 and w has shape (2, ) If we transpose X\n",
    "# then it has shape 3x2 and can be broadcast against w\n",
    "# to yield a result of shape 3x2."
   ]
  },
  {
   "cell_type": "code",
   "execution_count": 43,
   "id": "a1842c2c",
   "metadata": {},
   "outputs": [
    {
     "name": "stdout",
     "output_type": "stream",
     "text": [
      "[[ 57  67  78]\n",
      " [100 110 121]]\n"
     ]
    }
   ],
   "source": [
    "# Transposing this yields the final result\n",
    "# of shape  2x3 which is the matrix.\n",
    "print((x.T + w).T)\n"
   ]
  },
  {
   "cell_type": "code",
   "execution_count": 44,
   "id": "1ffdd052",
   "metadata": {},
   "outputs": [
    {
     "name": "stdout",
     "output_type": "stream",
     "text": [
      "[[ 57  67  78]\n",
      " [100 110 121]]\n"
     ]
    }
   ],
   "source": [
    "# Another solution is to reshape w to be a column\n",
    "# vector of shape 2X1 we can then broadcast it\n",
    "# directly against X to produce the same output.\n",
    "print(x + np.reshape(w, (2, 1)))"
   ]
  },
  {
   "cell_type": "code",
   "execution_count": 45,
   "id": "dfa35c18",
   "metadata": {},
   "outputs": [
    {
     "name": "stdout",
     "output_type": "stream",
     "text": [
      "[[ 24  44  66]\n",
      " [ 90 110 132]]\n"
     ]
    }
   ],
   "source": [
    "# Multiply a matrix by a constant, X has shape  2x3.\n",
    "# Numpy treats scalars as arrays of shape();\n",
    "# these can be broadcast together to shape 2x3.\n",
    "print(x * 2)"
   ]
  },
  {
   "cell_type": "markdown",
   "id": "6e386848",
   "metadata": {},
   "source": [
    "# Pytorch Broadcasting"
   ]
  },
  {
   "cell_type": "code",
   "execution_count": 1,
   "id": "8d437c0d",
   "metadata": {},
   "outputs": [],
   "source": [
    "import torch"
   ]
  },
  {
   "cell_type": "markdown",
   "id": "9b8ebc0b",
   "metadata": {},
   "source": [
    "Broadcasting functionality in Pytorch has been borrowed from Numpy. Broadcasting allows the performing of arithmetic operations on tensors that are not of the same size. Pytorch automatically does the broadcasting of the ‘smaller’ tensor to the size of the ‘larger’ tensor, only if certain constraints are met."
   ]
  },
  {
   "cell_type": "markdown",
   "id": "98c27024",
   "metadata": {},
   "source": [
    "## Example"
   ]
  },
  {
   "cell_type": "code",
   "execution_count": 2,
   "id": "7a1fd0da",
   "metadata": {},
   "outputs": [
    {
     "name": "stdout",
     "output_type": "stream",
     "text": [
      "tensor([1, 2, 3, 4])\n",
      "tensor([1, 2, 3])\n"
     ]
    }
   ],
   "source": [
    "a = torch.tensor([1,2,3,4])\n",
    "b = torch.tensor([1,2,3])\n",
    "print(a)\n",
    "print(b)"
   ]
  },
  {
   "cell_type": "code",
   "execution_count": 6,
   "id": "e3d20e34",
   "metadata": {},
   "outputs": [
    {
     "name": "stdout",
     "output_type": "stream",
     "text": [
      "torch.Size([3])\n"
     ]
    }
   ],
   "source": [
    "print(b.shape)"
   ]
  },
  {
   "cell_type": "code",
   "execution_count": 7,
   "id": "305821fd",
   "metadata": {},
   "outputs": [
    {
     "name": "stdout",
     "output_type": "stream",
     "text": [
      "torch.Size([4])\n"
     ]
    }
   ],
   "source": [
    "print(a.shape)"
   ]
  },
  {
   "cell_type": "code",
   "execution_count": 8,
   "id": "d0e6272f",
   "metadata": {},
   "outputs": [
    {
     "ename": "RuntimeError",
     "evalue": "The size of tensor a (4) must match the size of tensor b (3) at non-singleton dimension 0",
     "output_type": "error",
     "traceback": [
      "\u001b[0;31m---------------------------------------------------------------------------\u001b[0m",
      "\u001b[0;31mRuntimeError\u001b[0m                              Traceback (most recent call last)",
      "Input \u001b[0;32mIn [8]\u001b[0m, in \u001b[0;36m<cell line: 1>\u001b[0;34m()\u001b[0m\n\u001b[0;32m----> 1\u001b[0m c \u001b[38;5;241m=\u001b[39m \u001b[43ma\u001b[49m\u001b[43m \u001b[49m\u001b[38;5;241;43m+\u001b[39;49m\u001b[43m \u001b[49m\u001b[43mb\u001b[49m\n\u001b[1;32m      2\u001b[0m c\n",
      "\u001b[0;31mRuntimeError\u001b[0m: The size of tensor a (4) must match the size of tensor b (3) at non-singleton dimension 0"
     ]
    }
   ],
   "source": [
    "c = a + b\n",
    "c"
   ]
  },
  {
   "cell_type": "markdown",
   "id": "d98ef8e6",
   "metadata": {},
   "source": [
    "The addition operation is not possible in this case due to the different sizes of the tensors."
   ]
  },
  {
   "cell_type": "markdown",
   "id": "7171fcdd",
   "metadata": {},
   "source": [
    "## Example"
   ]
  },
  {
   "cell_type": "code",
   "execution_count": 9,
   "id": "9dd4bd7b",
   "metadata": {},
   "outputs": [
    {
     "name": "stdout",
     "output_type": "stream",
     "text": [
      "tensor([1, 2, 3])\n",
      "tensor([1])\n"
     ]
    }
   ],
   "source": [
    "a = torch.tensor([1,2,3])\n",
    "b = torch.tensor([1])\n",
    "print(a)\n",
    "print(b)"
   ]
  },
  {
   "cell_type": "code",
   "execution_count": 11,
   "id": "f5074a84",
   "metadata": {},
   "outputs": [
    {
     "data": {
      "text/plain": [
       "tensor([2, 3, 4])"
      ]
     },
     "execution_count": 11,
     "metadata": {},
     "output_type": "execute_result"
    }
   ],
   "source": [
    "c = a + b\n",
    "c"
   ]
  },
  {
   "cell_type": "markdown",
   "id": "cde30528",
   "metadata": {},
   "source": [
    "The value 1 is added to all the elements in the first tensor.\n",
    "\n",
    "This happened because the smaller tensor was broadcasted to the size of the larger tensor."
   ]
  },
  {
   "cell_type": "markdown",
   "id": "fa34e7bc",
   "metadata": {},
   "source": [
    "## Rules for Broadcasting"
   ]
  },
  {
   "cell_type": "markdown",
   "id": "c6e4813b",
   "metadata": {},
   "source": [
    "Two tensors are compatible for broadcasting only if, when starting from the trailing dimensions of the tensors:"
   ]
  },
  {
   "cell_type": "markdown",
   "id": "e771382d",
   "metadata": {},
   "source": [
    "* If the dimensions of both the tensors are the same.\n",
    "* If the dimension of one of the tensors is 1."
   ]
  },
  {
   "cell_type": "code",
   "execution_count": 12,
   "id": "ea492d2b",
   "metadata": {},
   "outputs": [],
   "source": [
    "tensor1 = torch.tensor([[1, 2], [0, 3]])\n",
    "tensor2 = torch.tensor([[3, 1]])\n",
    "tensor3 = torch.tensor([[5], [2]])\n",
    "tensor4 = torch.tensor([7])"
   ]
  },
  {
   "cell_type": "code",
   "execution_count": 15,
   "id": "23ba94c0",
   "metadata": {},
   "outputs": [
    {
     "name": "stdout",
     "output_type": "stream",
     "text": [
      "torch.Size([2, 2])\n",
      "torch.Size([1, 2])\n",
      "torch.Size([2, 1])\n",
      "torch.Size([1])\n"
     ]
    }
   ],
   "source": [
    "print(tensor1.shape)\n",
    "print(tensor2.shape)\n",
    "print(tensor3.shape)\n",
    "print(tensor4.shape)"
   ]
  },
  {
   "cell_type": "code",
   "execution_count": 16,
   "id": "b68a94be",
   "metadata": {},
   "outputs": [
    {
     "name": "stdout",
     "output_type": "stream",
     "text": [
      "tensor([[4, 3],\n",
      "        [3, 4]])\n"
     ]
    }
   ],
   "source": [
    "print(tensor1 + tensor2)"
   ]
  },
  {
   "cell_type": "code",
   "execution_count": 17,
   "id": "7a3a5596",
   "metadata": {},
   "outputs": [
    {
     "name": "stdout",
     "output_type": "stream",
     "text": [
      "tensor([[6, 7],\n",
      "        [2, 5]])\n"
     ]
    }
   ],
   "source": [
    "print(tensor1 + tensor3)"
   ]
  },
  {
   "cell_type": "code",
   "execution_count": 18,
   "id": "b5fe22e6",
   "metadata": {},
   "outputs": [
    {
     "name": "stdout",
     "output_type": "stream",
     "text": [
      "tensor([[8, 6],\n",
      "        [5, 3]])\n"
     ]
    }
   ],
   "source": [
    "print(tensor2 + tensor3)"
   ]
  },
  {
   "cell_type": "code",
   "execution_count": 19,
   "id": "391e0168",
   "metadata": {},
   "outputs": [
    {
     "name": "stdout",
     "output_type": "stream",
     "text": [
      "tensor([[ 8,  9],\n",
      "        [ 7, 10]])\n"
     ]
    }
   ],
   "source": [
    "print(tensor1 + tensor4)"
   ]
  },
  {
   "cell_type": "code",
   "execution_count": null,
   "id": "429dc272",
   "metadata": {},
   "outputs": [],
   "source": []
  }
 ],
 "metadata": {
  "kernelspec": {
   "display_name": "Python 3 (ipykernel)",
   "language": "python",
   "name": "python3"
  },
  "language_info": {
   "codemirror_mode": {
    "name": "ipython",
    "version": 3
   },
   "file_extension": ".py",
   "mimetype": "text/x-python",
   "name": "python",
   "nbconvert_exporter": "python",
   "pygments_lexer": "ipython3",
   "version": "3.10.6"
  }
 },
 "nbformat": 4,
 "nbformat_minor": 5
}
